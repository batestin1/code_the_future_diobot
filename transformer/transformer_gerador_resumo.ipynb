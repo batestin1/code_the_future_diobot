{
  "nbformat": 4,
  "nbformat_minor": 0,
  "metadata": {
    "colab": {
      "provenance": [],
      "collapsed_sections": [
        "g86oFPq11Yf3",
        "lBGJ0Jsx1fOn",
        "0EoBadbJ1m7D"
      ]
    },
    "kernelspec": {
      "name": "python3",
      "display_name": "Python 3"
    },
    "language_info": {
      "name": "python"
    }
  },
  "cells": [
    {
      "cell_type": "markdown",
      "source": [
        "# Transformer - Gerador e Resumo\n"
      ],
      "metadata": {
        "id": "hv_Pdg1gyMQA"
      }
    },
    {
      "cell_type": "markdown",
      "source": [
        "### Descriçao\n",
        "\n",
        "---\n",
        "1. O objetivo deste notebook é aprender sobre Transformer\n",
        "2. Vamos aprender sobre a biblioteca Transformer e construir um gerador de texto e também um resumo de paragrafos.\n",
        "---"
      ],
      "metadata": {
        "id": "I_k3tU0vyReH"
      }
    },
    {
      "cell_type": "markdown",
      "source": [
        "### Baixando os pacotes\n"
      ],
      "metadata": {
        "id": "4FV0_Mc9yhoR"
      }
    },
    {
      "cell_type": "code",
      "source": [
        "!pip install transformers"
      ],
      "metadata": {
        "id": "zuo_W7BUyiLK"
      },
      "execution_count": null,
      "outputs": []
    },
    {
      "cell_type": "markdown",
      "source": [
        "### Documentação\n",
        "\n",
        "1. **Transformers**:\n",
        "   - [Documentação do Hugging Face Transformers](https://huggingface.co/transformers/)\n",
        "   - [Repositório GitHub](https://github.com/huggingface/transformers)\n",
        "\n",
        "\n",
        "2. **Datasets**:\n",
        "   - [Documentação do Hugging Face Datasets](https://huggingface.co/docs/datasets/)\n",
        "   - [Repositório GitHub](https://github.com/huggingface/datasets)\n"
      ],
      "metadata": {
        "id": "L7gdS5Uw9t-K"
      }
    },
    {
      "cell_type": "markdown",
      "source": [
        "### Importando as bibliotecas"
      ],
      "metadata": {
        "id": "cdIweSkTyr4d"
      }
    },
    {
      "cell_type": "code",
      "source": [
        "import transformers\n",
        "from transformers import pipeline #para realizar tarefas de PLN.\n"
      ],
      "metadata": {
        "id": "yR-cFJ3vysMu"
      },
      "execution_count": null,
      "outputs": []
    },
    {
      "cell_type": "markdown",
      "source": [
        "### Gerador de Texto"
      ],
      "metadata": {
        "id": "5oJq5Cz5029i"
      }
    },
    {
      "cell_type": "code",
      "source": [
        "gerador = pipeline(\"text-generation\", model=\"pierreguillou/gpt2-small-portuguese\") #o primeiro parametro é a tarefa! o segundo parametro é o\n",
        "instrucao = \"\"\"Me fale sobre Maycon Batestin.\"\"\"\n",
        "\n",
        "resultado = gerador(instrucao,\n",
        "                    truncation=True,\n",
        "                    max_length=600, #maximo de comprimento do texto\n",
        "                    do_sample=True, #retorna uma amostragem estocagem, mais diversificada quando true\n",
        "                    temperature=0.9, #vai de zero a 1 e quanto maior, mais criativa fica o texto. tmb define a tal alucinacao\n",
        "                    top_k=50, # limita as proximas palavras ao numero k\n",
        "                    top_p=0.85#limita o conjunto de palavras para um novo grupo\n",
        "                   ) #ID do token de padding do GPT-2\n"
      ],
      "metadata": {
        "id": "4j5svEky01OF"
      },
      "execution_count": null,
      "outputs": []
    },
    {
      "cell_type": "code",
      "source": [
        "resultado = resultado[0]['generated_text']\n",
        "resultado"
      ],
      "metadata": {
        "id": "oGz0hLcT27tJ"
      },
      "execution_count": null,
      "outputs": []
    },
    {
      "cell_type": "code",
      "source": [
        "indice_fim_texto_original = resultado.find(instrucao)\n",
        "novo_texto = resultado[indice_fim_texto_original + len(instrucao):].strip().replace('\\n\\n', ' ')\n",
        "novo_texto"
      ],
      "metadata": {
        "id": "rtE60xpuFQpL"
      },
      "execution_count": null,
      "outputs": []
    },
    {
      "cell_type": "markdown",
      "source": [
        "### Preencher Lacunas"
      ],
      "metadata": {
        "id": "g86oFPq11Yf3"
      }
    },
    {
      "cell_type": "code",
      "source": [
        "mascarar = pipeline(\"fill-mask\", model=\"neuralmind/bert-base-portuguese-cased\")# aqui trocamos a tarefa de gerar texto para preencher máscara. Preencher lacunas."
      ],
      "metadata": {
        "id": "-JZA0kH605qp"
      },
      "execution_count": null,
      "outputs": []
    },
    {
      "cell_type": "code",
      "source": [
        "prompt = mascarar(\"O Palmeiras conseguiu [MASK] o Mundial!\") #onde ha o [] é onde vai haver o preenchimento\n",
        "for x in range(len(prompt)):\n",
        "  print(f\"Probabilidade: {round(prompt[x]['score'],2) * 100}%\")\n",
        "  print(f\"palavra sugerida: {prompt[x]['token_str'].upper()}\")\n",
        "  print(f\"Frase preenchida: {prompt[x]['sequence']}\")\n"
      ],
      "metadata": {
        "id": "caxRO_541bEp"
      },
      "execution_count": null,
      "outputs": []
    },
    {
      "cell_type": "markdown",
      "source": [
        "### Perguntas e Respostas"
      ],
      "metadata": {
        "id": "lBGJ0Jsx1fOn"
      }
    },
    {
      "cell_type": "code",
      "source": [
        "qea = pipeline(\"question-answering\", model=\"pierreguillou/bert-base-cased-squad-v1.1-portuguese\")"
      ],
      "metadata": {
        "id": "wZGRSzuc1dOA"
      },
      "execution_count": null,
      "outputs": []
    },
    {
      "cell_type": "code",
      "source": [
        "context = \"\"\"The Hitchhiker's Guide to the Galaxy (no Brasil O Guia do Mochileiro das Galáxias, em Portugal À Boleia Pela Galáxia)[1] é uma série de ficção científica cómica criada por Douglas Adams.[2] Originalmente era transmitida na BBC Radio 4 em 1978,[2] foi mais tarde adaptada para outros formatos, e após vários anos se tornou um fenômeno internacional. As adaptações incluíram espetáculos de palco, uma \"trilogia\" de cinco livros publicados entre 1979 e 1992,[1] um sexto romance escrito pelo Eoin Colfer, em 2009,[3] uma série de TV de 1981,[4] um jogo de computador de 1984,[5] e três séries de três partes de adaptações de romance para quadrinhos publicados pela DC Comics entre 1993 e 1996. Houve também duas toalhas, produzidas por Beer-Davies, que são considerados por alguns fãs como uma \"versão oficial\" do Guia do Mochileiro das Galáxias, uma vez que incluem o texto do primeiro romance.[6][7] Uma versão cinematográfica de Hollywood financiada, produzida e filmada no Reino Unido, foi lançada em abril de 2005, e adaptações de rádio dos terceiro, quarto e quinto romance foram transmitidos entre 2004 e 2005. Muitas dessas adaptações, incluindo os romances, as séries de TV, o jogo de computador, e os primeiros rascunhos do roteiro do filme de Hollywood, foram feitos pelo próprio Adams, e alguns da adaptação de palco mostra novo material escrito por Adams. \"\"\"\n",
        "prompt = \"Quem escreveu o o livro?\"\n",
        "resposta = qea(question=prompt, context=context)\n",
        "print(\"Pergunta: \", prompt)\n",
        "print(\"Resposta: \", resposta['answer'])\n",
        "print(\"Score: \", resposta['score'])"
      ],
      "metadata": {
        "id": "lP0Zr7qo1hVo"
      },
      "execution_count": null,
      "outputs": []
    },
    {
      "cell_type": "markdown",
      "source": [
        "### Resumo"
      ],
      "metadata": {
        "id": "0EoBadbJ1m7D"
      }
    },
    {
      "cell_type": "code",
      "source": [
        "resumidor = pipeline(\"summarization\", model=\"Falconsai/text_summarization\")\n"
      ],
      "metadata": {
        "id": "-Jdkd6Qx1kll"
      },
      "execution_count": null,
      "outputs": []
    },
    {
      "cell_type": "code",
      "source": [
        "prompt = \"\"\"The Hitchhiker's Guide to the Galaxy (no Brasil O Guia do Mochileiro das Galáxias, em Portugal À Boleia Pela Galáxia)[1] é uma série de ficção científica cómica criada por Douglas Adams.[2] Originalmente era transmitida na BBC Radio 4 em 1978,[2] foi mais tarde adaptada para outros formatos, e após vários anos se tornou um fenômeno internacional. As adaptações incluíram espetáculos de palco, uma \"trilogia\" de cinco livros publicados entre 1979 e 1992,[1] um sexto romance escrito pelo Eoin Colfer, em 2009,[3] uma série de TV de 1981,[4] um jogo de computador de 1984,[5] e três séries de três partes de adaptações de romance para quadrinhos publicados pela DC Comics entre 1993 e 1996. Houve também duas toalhas, produzidas por Beer-Davies, que são considerados por alguns fãs como uma \"versão oficial\" do Guia do Mochileiro das Galáxias, uma vez que incluem o texto do primeiro romance.[6][7] Uma versão cinematográfica de Hollywood financiada, produzida e filmada no Reino Unido, foi lançada em abril de 2005, e adaptações de rádio dos terceiro, quarto e quinto romance foram transmitidos entre 2004 e 2005. Muitas dessas adaptações, incluindo os romances, as séries de TV, o jogo de computador, e os primeiros rascunhos do roteiro do filme de Hollywood, foram feitos pelo próprio Adams, e alguns da adaptação de palco mostra novo material escrito por Adams. \"\"\"\n",
        "resumo = resumidor(prompt, max_length=593, min_length=50)\n",
        "resumo = resumo[0]['summary_text']\n",
        "print(f\"\"\"Resumo:\n",
        "{resumo}\"\"\")"
      ],
      "metadata": {
        "id": "hEBtULqT1uR8"
      },
      "execution_count": null,
      "outputs": []
    }
  ]
}
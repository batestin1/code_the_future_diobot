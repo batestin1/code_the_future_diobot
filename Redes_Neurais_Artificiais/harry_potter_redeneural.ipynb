{
  "cells": [
    {
      "cell_type": "markdown",
      "metadata": {
        "id": "WG14WfRnek-N"
      },
      "source": [
        "# Redes Neurais nos Exames de Bruxo de Hogwarts"
      ]
    },
    {
      "cell_type": "markdown",
      "metadata": {
        "id": "fFPmH0U5ek-P"
      },
      "source": [
        "### Descriçao\n",
        "\n",
        "---\n",
        "1. O objetivo deste notebook é aprender sobre Redes Neurais Artificias\n",
        "2. Vamos construir um conjunto de dados baseado no universo do Harry Potter\n",
        "3. O problema consiste em prever qual a nota do aluno\n",
        "---"
      ]
    },
    {
      "cell_type": "markdown",
      "metadata": {
        "id": "Pdhg7amKek-P"
      },
      "source": [
        "### Dicionário\n",
        "\n",
        "\n",
        "Fields\t                                                  | Type  \t  |    Description                              |\n",
        "----------------------------------------------------------|:---------:|:-------------------------------------------:|\n",
        "student \t  \t\t\t\t\t\t\t\t\t\t  \t  |string     | name of participants\t                    |\n",
        "age\t\t\t\t\t\t\t\t\t\t\t\t\t\t  |integer    | age of participants                         |\n",
        "houses\t\t     \t\t\t\t\t\t\t\t\t\t  |string     | house of participants\t\t                |\n",
        "spell\t\t\t\t\t\t\t\t\t\t\t\t  |float      | subject\t\t\t\t\t\t\t\t\t    |\n",
        "hours_of_studie\t\t\t\t\t\t\t\t\t\t\t  |integer    | time spend in studie\t     \t\t\t    |\n",
        "hours_of_practice\t\t\t\t\t\t\t\t\t\t |integer    | time spend in practice\t     \t\t\t    |\n",
        "alchemy            \t\t\t\t\t\t\t\t\t\t  |float     | subject                                     |\n"
      ]
    },
    {
      "cell_type": "markdown",
      "metadata": {
        "id": "OgaM-fojek-P"
      },
      "source": [
        "----\n",
        "### Objetivos\n",
        "\n",
        "1. O problema consiste em criar uma rede neural capaz de prever a nota que o aluno vai tirar em determinada materia.\n",
        "2. Vamos construir um conjunto de dados historicos desses alunos e dividi-los em teste e treino.\n",
        "3. Variaveis independentes (Horas de Estudo e Horas de Pratica)\n",
        "4. Variavel alvo (Qualquer materia)\n",
        "---\n"
      ]
    },
    {
      "cell_type": "markdown",
      "metadata": {
        "id": "zGhQIjn5ek-P"
      },
      "source": [
        "### Baixando os pacotes"
      ]
    },
    {
      "cell_type": "code",
      "execution_count": null,
      "metadata": {
        "id": "mviwa8dpek-Q"
      },
      "outputs": [],
      "source": [
        "!pip install pandas numpy scikit-learn keras Faker\n"
      ]
    },
    {
      "cell_type": "markdown",
      "source": [
        "### Documentação\n",
        "\n",
        "1. ** Pandas ** -> [Link](https://pandas.pydata.org/docs/)\n",
        "2. ** Numpy ** -> [Link](https://numpy.org/doc/)\n",
        "3. ** Faker ** -> [Link](https://faker.readthedocs.io/en/master/)\n",
        "4. ** Scikit Learn ** -> [Link](https://scikit-learn.org/stable/)\n",
        "5. ** Keras ** -> [Link](https://keras.io/api/)\n",
        "6. ** Tensor Flow ** -> [Tensor Flow](https://www.tensorflow.org/api_docs/python/tf/keras)\n"
      ],
      "metadata": {
        "id": "o8vw9ps0-pZ0"
      }
    },
    {
      "cell_type": "code",
      "execution_count": null,
      "metadata": {
        "id": "An0_pozPY7Fw"
      },
      "outputs": [],
      "source": [
        "import pandas as pd # para manipulacao de dados\n",
        "import numpy as np # para manipulação de matrizes\n",
        "import random #para gerar numeros aleatorios\n",
        "from faker import Faker # para gerar nomes falsos\n",
        "from sklearn.model_selection import train_test_split #para dividir os dados em teste e treino\n",
        "from sklearn.preprocessing import StandardScaler # etapa de pre processamento de dados para deixar dados na mesma escala\n",
        "from sklearn.metrics import mean_absolute_error, mean_squared_error, r2_score #metricas de avaliacao\n",
        "from keras.models import Sequential # para redes neurais\n",
        "from keras.layers import Dense, Dropout # para etapas de ativação de camadas neurais\n",
        "from tensorflow.keras.utils import plot_model # para visualizar as camadas neurais"
      ]
    },
    {
      "cell_type": "markdown",
      "source": [
        "# Construindo o Dataset Faker"
      ],
      "metadata": {
        "id": "pHqokS3hgNvL"
      }
    },
    {
      "cell_type": "code",
      "execution_count": null,
      "metadata": {
        "id": "EXrtdBsHZ8nQ"
      },
      "outputs": [],
      "source": [
        "\n",
        "def generate(num):\n",
        "    fake = Faker() #criando o metodo de nomes falsos\n",
        "    data = []\n",
        "    subjects = ['spell', 'alchemy'] #lista de materias\n",
        "\n",
        "    for _ in range(num):\n",
        "        student = fake.name()\n",
        "        age = random.randint(11, 39)\n",
        "        house = random.choice(['Gryffindor', 'Slytherin', 'Ravenclaw', 'Hufflepuff'])\n",
        "        hours_of_studie = random.randint(1,24)\n",
        "        hours_of_practice = random.randint(1, 24)\n",
        "        row = {\n",
        "            'student': student,\n",
        "            'age': age,\n",
        "            'house': house,\n",
        "            'hours_of_studie': hours_of_studie,\n",
        "            'hours_of_practice': hours_of_practice,\n",
        "        }\n",
        "        for subject in subjects:\n",
        "            row[subject] = round(random.uniform(0,10),2)\n",
        "        data.append(row)\n",
        "\n",
        "    df = pd.DataFrame(data)\n",
        "    return df\n",
        "\n",
        "df = generate(1000)\n",
        "df\n"
      ]
    },
    {
      "cell_type": "markdown",
      "source": [
        "### Criando nosso modelo de rede neural"
      ],
      "metadata": {
        "id": "Ktgl0l5vqRB6"
      }
    },
    {
      "cell_type": "code",
      "source": [
        "df['house'].value_counts()"
      ],
      "metadata": {
        "id": "ulRcXraAqYfy"
      },
      "execution_count": null,
      "outputs": []
    },
    {
      "cell_type": "code",
      "source": [
        "#para as casas do harry potter vamos atribuir valores numericos, o computador nao processa texto\n",
        "# poderiamos tambem usar o LabelEnconder, da biblioteca do Scikit Learn\n",
        "\n",
        "house_map = {'Gryffindor': 0, 'Slytherin': 1, 'Ravenclaw': 2, 'Hufflepuff': 3}\n",
        "df['house'] = df['house'].map(house_map)"
      ],
      "metadata": {
        "id": "h9Q4lfdOoeaE"
      },
      "execution_count": null,
      "outputs": []
    },
    {
      "cell_type": "code",
      "source": [
        "df['house'].value_counts()"
      ],
      "metadata": {
        "id": "eXTqC_DnqvMa"
      },
      "execution_count": null,
      "outputs": []
    },
    {
      "cell_type": "code",
      "source": [
        "# Definir as variáveis independentes e a variável alvo\n",
        "X = df[['hours_of_studie', 'hours_of_practice', 'age', 'house']] # o X é a variavel indepedente\n",
        "y = df['spell']  # o 'y' é a variável alvo"
      ],
      "metadata": {
        "id": "7t1bznDAunHe"
      },
      "execution_count": null,
      "outputs": []
    },
    {
      "cell_type": "code",
      "source": [
        "# Dividir os dados em conjuntos de treinamento e teste\n",
        "X_train, X_test, y_train, y_test = train_test_split(X, y, test_size=0.2, random_state=42)"
      ],
      "metadata": {
        "id": "6UUNDT_quoj5"
      },
      "execution_count": null,
      "outputs": []
    },
    {
      "cell_type": "code",
      "source": [
        "X_train.head(4)"
      ],
      "metadata": {
        "id": "W3VwUp8DuqvK"
      },
      "execution_count": null,
      "outputs": []
    },
    {
      "cell_type": "code",
      "source": [
        "y_train.head(4)"
      ],
      "metadata": {
        "id": "U8FUHsEzuspp"
      },
      "execution_count": null,
      "outputs": []
    },
    {
      "cell_type": "code",
      "source": [
        "# Normalizar os dados\n",
        "scaler = StandardScaler()\n",
        "X_train = scaler.fit_transform(X_train)\n",
        "X_test = scaler.fit_transform(X_test)"
      ],
      "metadata": {
        "id": "5wKynGtnuvHq"
      },
      "execution_count": null,
      "outputs": []
    },
    {
      "cell_type": "code",
      "source": [
        "X_train"
      ],
      "metadata": {
        "id": "KyybLyxGwdtq"
      },
      "execution_count": null,
      "outputs": []
    },
    {
      "cell_type": "code",
      "source": [
        "# Construir o modelo da rede neural\n",
        "modelo = Sequential()\n",
        "modelo.add(Dense(units=64, activation='relu', input_dim=X_train.shape[1]))\n",
        "modelo.add(Dropout(0.4))\n",
        "modelo.add(Dense(units=32, activation='relu'))\n",
        "modelo.add(Dropout(0.4))\n",
        "modelo.add(Dense(units=64, activation='relu'))\n",
        "modelo.add(Dropout(0.4))\n",
        "modelo.add(Dense(units=1, activation='sigmoid'))\n"
      ],
      "metadata": {
        "id": "1ANYYoERuzuu"
      },
      "execution_count": null,
      "outputs": []
    },
    {
      "cell_type": "code",
      "source": [
        "# Compilar o modelo\n",
        "modelo.compile(optimizer='adam', loss='binary_crossentropy', metrics=['accuracy'])"
      ],
      "metadata": {
        "id": "v1kPsj5Au1jn"
      },
      "execution_count": null,
      "outputs": []
    },
    {
      "cell_type": "code",
      "source": [
        "\n",
        "# Treinar o modelo\n",
        "modelo.fit(X_train, y_train, epochs=50, batch_size=32)"
      ],
      "metadata": {
        "id": "WKuqPF9Au2j9"
      },
      "execution_count": null,
      "outputs": []
    },
    {
      "cell_type": "code",
      "source": [
        "# Avaliar o modelo\n",
        "loss = modelo.evaluate(X_test, y_test)\n",
        "print(f'Loss: {loss}')"
      ],
      "metadata": {
        "id": "lf3UKAqMu4tr"
      },
      "execution_count": null,
      "outputs": []
    },
    {
      "cell_type": "code",
      "source": [
        "# Fazer previsões\n",
        "predictions = modelo.predict(X_test)"
      ],
      "metadata": {
        "id": "ivJSvFLQmsuz"
      },
      "execution_count": null,
      "outputs": []
    },
    {
      "cell_type": "markdown",
      "source": [
        "### Visualizando nossa rede neural"
      ],
      "metadata": {
        "id": "_R4L2C7mqj7C"
      }
    },
    {
      "cell_type": "code",
      "source": [
        "plot_model(modelo, to_file='modelo.png', rankdir=\"LR\", show_shapes=True, show_layer_names=True)"
      ],
      "metadata": {
        "id": "tXulWx-Wqmvi"
      },
      "execution_count": null,
      "outputs": []
    },
    {
      "cell_type": "markdown",
      "source": [
        "### Testando nosso modelo"
      ],
      "metadata": {
        "id": "foeeZC8IqouI"
      }
    },
    {
      "cell_type": "code",
      "source": [
        "df.head(4)"
      ],
      "metadata": {
        "id": "qULey6yPnYc_"
      },
      "execution_count": null,
      "outputs": []
    },
    {
      "cell_type": "markdown",
      "source": [
        "# Confirmando nossa classificação"
      ],
      "metadata": {
        "id": "IkSB3uBXoxF3"
      }
    },
    {
      "cell_type": "code",
      "source": [
        "# Remover as colunas 'age' e 'house' do DataFrame de teste\n",
        "test_data = df[['hours_of_studie', 'hours_of_practice', 'age', 'house']]\n",
        "\n",
        "# Normalizar os dados de teste\n",
        "X_test = scaler.transform(test_data)\n",
        "\n",
        "\n",
        "# Comparar previsões com as notas reais\n",
        "for i, prediction in enumerate(predictions):\n",
        "    print(f'Previsão: {prediction[0]}, Nota Real: {df.iloc[i][\"spell\"]}')\n"
      ],
      "metadata": {
        "id": "nGOOFXUGnBVA"
      },
      "execution_count": null,
      "outputs": []
    },
    {
      "cell_type": "markdown",
      "source": [
        "# Confirmando com novos valores"
      ],
      "metadata": {
        "id": "rWKSCjOxpAh3"
      }
    },
    {
      "cell_type": "code",
      "source": [
        "new_df = generate(4)\n",
        "house_map = {'Gryffindor': 0, 'Slytherin': 1, 'Ravenclaw': 2, 'Hufflepuff': 3}\n",
        "new_df['house'] = new_df['house'].map(house_map)\n",
        "new_df"
      ],
      "metadata": {
        "id": "XmYQPbHnmFtc"
      },
      "execution_count": null,
      "outputs": []
    },
    {
      "cell_type": "code",
      "source": [
        "\n",
        "X_test = scaler.transform(new_df[['hours_of_studie', 'hours_of_practice', 'age', 'house']]) # Normalizar os novos dados\n",
        "\n",
        "\n",
        "# Gerar previsões\n",
        "predictions = modelo.predict(X_test)\n",
        "\n",
        "# Exibir as previsões\n",
        "for i, prediction in enumerate(predictions):\n",
        "    print(f'Previsão: {prediction[0]}, Nota Real: {new_df.iloc[i][\"spell\"]}')"
      ],
      "metadata": {
        "id": "z60c6n4upDy_"
      },
      "execution_count": null,
      "outputs": []
    },
    {
      "cell_type": "markdown",
      "source": [
        "### Avaliando o Modelo"
      ],
      "metadata": {
        "id": "dJH1tZI4qwYg"
      }
    },
    {
      "cell_type": "code",
      "execution_count": null,
      "metadata": {
        "id": "bBLCpW0AjpGF"
      },
      "outputs": [],
      "source": [
        "X_all = scaler.transform(df[['hours_of_studie', 'hours_of_practice']])\n",
        "predictions_all = modelo.predict(X_all)\n",
        "\n",
        "y_true = df['spell']  # ou 'alchemy' como variável alvo\n",
        "y_pred = predictions_all.flatten()\n",
        "\n",
        "# Calcular o erro médio absoluto (MAE)\n",
        "mae = mean_absolute_error(y_true, y_pred)\n",
        "\n",
        "# Calcular o erro quadrático médio (MSE)\n",
        "mse = mean_squared_error(y_true, y_pred)\n",
        "\n",
        "# Calcular o coeficiente de determinação (R²)\n",
        "r2 = r2_score(y_true, y_pred)\n",
        "\n",
        "print(f'Erro Médio Absoluto (MAE): {mae}') # O MAE é a média das diferenças absolutas entre as previsões do modelo e os valores reais. Em outras palavras, ele mede o quão perto as previsões estão dos valores reais, sem considerar a direção. Um MAE mais baixo indica que o modelo está fazendo previsões mais precisas.\n",
        "print(f'Erro Quadrático Médio (MSE): {mse}') # O MSE é a média dos quadrados das diferenças entre as previsões do modelo e os valores reais. Ele dá mais peso a grandes erros, o que pode ser útil em alguns casos.\n",
        "print(f'Coeficiente de Determinação (R²): {r2}') # O R² é uma medida estatística que indica a proporção da variância nos valores da variável dependente que é previsível a partir dos valores da variável independente. Em outras palavras, ele indica o quão bem os novos dados devem se encaixar no modelo.\n"
      ]
    },
    {
      "cell_type": "markdown",
      "source": [
        "### Inferencia"
      ],
      "metadata": {
        "id": "eMxzqJs2tTuJ"
      }
    },
    {
      "cell_type": "markdown",
      "source": [
        "um MAE de aproximadamente 4.13 significa que, em média, as previsões do seu modelo estão a cerca de 4.13 unidades de distância dos valores reais. Um MSE de aproximadamente 24.51 indica que, em média, o quadrado da diferença entre as previsões e os valores reais é de aproximadamente 24.51. O coeficiente de determinação negativo indica que o modelo não se ajustou bem aos dados, sugerindo que há outros fatores não considerados pelo modelo que afetam as notas dos alunos."
      ],
      "metadata": {
        "id": "9UlGzcjYtWqK"
      }
    },
    {
      "cell_type": "code",
      "source": [],
      "metadata": {
        "id": "d8EsxSMjtXV7"
      },
      "execution_count": null,
      "outputs": []
    }
  ],
  "metadata": {
    "colab": {
      "provenance": [],
      "collapsed_sections": [
        "pHqokS3hgNvL",
        "IkSB3uBXoxF3",
        "rWKSCjOxpAh3"
      ]
    },
    "kernelspec": {
      "display_name": "Python 3",
      "name": "python3"
    },
    "language_info": {
      "name": "python",
      "version": "3.12.3"
    }
  },
  "nbformat": 4,
  "nbformat_minor": 0
}
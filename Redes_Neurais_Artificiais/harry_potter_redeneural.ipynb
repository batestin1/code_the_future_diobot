{
  "cells": [
    {
      "cell_type": "markdown",
      "metadata": {
        "id": "WG14WfRnek-N"
      },
      "source": [
        "# Redes Neurais nos Exames de Bruxo de Hogwarts"
      ]
    },
    {
      "cell_type": "markdown",
      "metadata": {
        "id": "fFPmH0U5ek-P"
      },
      "source": [
        "### Descriçao\n",
        "\n",
        "---\n",
        "1. O objetivo deste notebook é aprender sobre Redes Neurais Artificias\n",
        "2. Vamos construir um conjunto de dados baseado no universo do Harry Potter\n",
        "3. O problema consiste em prever qual a nota do aluno\n",
        "---"
      ]
    },
    {
      "cell_type": "markdown",
      "metadata": {
        "id": "Pdhg7amKek-P"
      },
      "source": [
        "### Dicionário\n",
        "\n",
        "\n",
        "Fields\t                                                  | Type  \t  |    Description                              |\n",
        "----------------------------------------------------------|:---------:|:-------------------------------------------:|\n",
        "student \t  \t\t\t\t\t\t\t\t\t\t  \t  |string     | name of participants\t                    |\n",
        "age\t\t\t\t\t\t\t\t\t\t\t\t\t\t  |integer    | age of participants                         |\n",
        "houses\t\t     \t\t\t\t\t\t\t\t\t\t  |string     | house of participants\t\t                |\n",
        "spell\t\t\t\t\t\t\t\t\t\t\t\t  |float      | subject\t\t\t\t\t\t\t\t\t    |\n",
        "hours_of_studie\t\t\t\t\t\t\t\t\t\t\t  |integer    | time spend in studie\t     \t\t\t    |\n",
        "hours_of_practice\t\t\t\t\t\t\t\t\t\t |integer    | time spend in practice\t     \t\t\t    |\n",
        "alchemy            \t\t\t\t\t\t\t\t\t\t  |float     | subject                                     |\n"
      ]
    },
    {
      "cell_type": "markdown",
      "metadata": {
        "id": "OgaM-fojek-P"
      },
      "source": [
        "----\n",
        "### Objetivos\n",
        "\n",
        "1. O problema consiste em criar uma rede neural capaz de prever a nota que o aluno vai tirar em determinada materia.\n",
        "2. Vamos construir um conjunto de dados historicos desses alunos e dividi-los em teste e treino.\n",
        "3. Variaveis independentes (Horas de Estudo e Horas de Pratica)\n",
        "4. Variavel alvo (Qualquer materia)\n",
        "---\n"
      ]
    },
    {
      "cell_type": "markdown",
      "metadata": {
        "id": "zGhQIjn5ek-P"
      },
      "source": [
        "### Baixando os pacotes"
      ]
    },
    {
      "cell_type": "code",
      "execution_count": null,
      "metadata": {
        "colab": {
          "base_uri": "https://localhost:8080/"
        },
        "id": "mviwa8dpek-Q",
        "outputId": "6dd9763b-cd25-4315-c2f9-b02870b41edf"
      },
      "outputs": [],
      "source": [
        "!pip install pandas numpy scikit-learn keras Faker\n"
      ]
    },
    {
      "cell_type": "markdown",
      "metadata": {
        "id": "o8vw9ps0-pZ0"
      },
      "source": [
        "### Documentação\n",
        "\n",
        "1. ** Pandas ** -> [Link](https://pandas.pydata.org/docs/)\n",
        "2. ** Numpy ** -> [Link](https://numpy.org/doc/)\n",
        "3. ** Faker ** -> [Link](https://faker.readthedocs.io/en/master/)\n",
        "4. ** Scikit Learn ** -> [Link](https://scikit-learn.org/stable/)\n",
        "5. ** Keras ** -> [Link](https://keras.io/api/)\n",
        "6. ** Tensor Flow ** -> [Tensor Flow](https://www.tensorflow.org/api_docs/python/tf/keras)\n"
      ]
    },
    {
      "cell_type": "code",
      "execution_count": null,
      "metadata": {
        "id": "An0_pozPY7Fw"
      },
      "outputs": [],
      "source": [
        "import pandas as pd\n",
        "import numpy as np\n",
        "import random\n",
        "from faker import Faker\n",
        "from sklearn.model_selection import train_test_split\n",
        "from sklearn.preprocessing import LabelEncoder, StandardScaler\n",
        "from sklearn.metrics import mean_absolute_error, mean_squared_error, r2_score\n",
        "from keras.models import Sequential\n",
        "from keras.layers import Dense, Dropout\n",
        "from tensorflow.keras.utils import plot_model"
      ]
    },
    {
      "cell_type": "markdown",
      "metadata": {
        "id": "pHqokS3hgNvL"
      },
      "source": [
        "# Construindo o Dataset Faker"
      ]
    },
    {
      "cell_type": "code",
      "execution_count": null,
      "metadata": {
        "id": "EXrtdBsHZ8nQ"
      },
      "outputs": [],
      "source": [
        "\n",
        "def generate(num):\n",
        "    fake = Faker() #criando o metodo de nomes falsos\n",
        "    data = []\n",
        "    subjects = ['spell', 'alchemy'] #lista de materias\n",
        "\n",
        "    for _ in range(num):\n",
        "        student = fake.name()\n",
        "        age = random.randint(11, 39)\n",
        "        house = random.choice(['Gryffindor', 'Slytherin', 'Ravenclaw', 'Hufflepuff'])\n",
        "        hours_of_studie = random.randint(1,24)\n",
        "        hours_of_practice = random.randint(1, 24)\n",
        "        row = {\n",
        "            'student': student,\n",
        "            'age': age,\n",
        "            'house': house,\n",
        "            'hours_of_studie': hours_of_studie,\n",
        "            'hours_of_practice': hours_of_practice,\n",
        "        }\n",
        "        for subject in subjects:\n",
        "            row[subject] = round(random.uniform(0,10),2)\n",
        "        data.append(row)\n",
        "\n",
        "    df = pd.DataFrame(data)\n",
        "    return df\n",
        "\n",
        "df = generate(1000)\n",
        "df\n"
      ]
    },
    {
      "cell_type": "markdown",
      "metadata": {
        "id": "Ktgl0l5vqRB6"
      },
      "source": [
        "### Criando nosso modelo de rede neural"
      ]
    },
    {
      "cell_type": "code",
      "execution_count": null,
      "metadata": {
        "id": "ivJSvFLQmsuz"
      },
      "outputs": [],
      "source": [
        "# Definir as variáveis independentes e a variável alvo\n",
        "X = df[['hours_of_studie', 'hours_of_practice']]\n",
        "y = df['spell']  # ou 'alchemy' como variável alvo\n",
        "\n",
        "# Dividir os dados em conjuntos de treinamento e teste\n",
        "X_train, X_test, y_train, y_test = train_test_split(X, y, test_size=0.2, random_state=42)\n",
        "\n",
        "# Normalizar os dados\n",
        "scaler = StandardScaler()\n",
        "X_train = scaler.fit_transform(X_train)\n",
        "X_test = scaler.transform(X_test)\n",
        "\n",
        "# Construir o modelo da rede neural\n",
        "modelo = Sequential()\n",
        "modelo.add(Dense(units=64, activation='relu', input_dim=X_treino.shape[1]))\n",
        "modelo.add(Dropout(0.4))\n",
        "modelo.add(Dense(units=32, activation='relu'))\n",
        "modelo.add(Dropout(0.4))\n",
        "modelo.add(Dense(units=64, activation='relu'))\n",
        "modelo.add(Dropout(0.4))\n",
        "modelo.add(Dense(units=1, activation='sigmoid'))\n",
        "\n",
        "# Compilar o modelo\n",
        "modelo.compile(optimizer='adam', loss='binary_crossentropy', metrics=['accuracy'])\n",
        "modelo.fit(X_treino, y_treino, epochs=50, batch_size=32)\n",
        "\n",
        "# Treinar o modelo\n",
        "\n",
        "# Avaliar o modelo\n",
        "loss = modelo.evaluate(X_test, y_test)\n",
        "print(f'Loss: {loss}')\n",
        "\n",
        "# Fazer previsões\n",
        "predictions = modelo.predict(X_test)"
      ]
    },
    {
      "cell_type": "markdown",
      "metadata": {
        "id": "_R4L2C7mqj7C"
      },
      "source": [
        "### Visualizando nossa rede neural"
      ]
    },
    {
      "cell_type": "code",
      "execution_count": null,
      "metadata": {
        "id": "tXulWx-Wqmvi"
      },
      "outputs": [],
      "source": [
        "plot_model(modelo, to_file='modelo.png', rankdir=\"LR\", show_shapes=True, show_layer_names=True)"
      ]
    },
    {
      "cell_type": "markdown",
      "metadata": {
        "id": "foeeZC8IqouI"
      },
      "source": [
        "### Testando nosso modelo"
      ]
    },
    {
      "cell_type": "code",
      "execution_count": null,
      "metadata": {
        "colab": {
          "base_uri": "https://localhost:8080/",
          "height": 175
        },
        "id": "qULey6yPnYc_",
        "outputId": "6a774f3e-2f51-4953-b556-82cc0fe7fd51"
      },
      "outputs": [],
      "source": [
        "df.head(4)"
      ]
    },
    {
      "cell_type": "markdown",
      "metadata": {
        "id": "IkSB3uBXoxF3"
      },
      "source": [
        "# Confirmando nossa classificação"
      ]
    },
    {
      "cell_type": "code",
      "execution_count": null,
      "metadata": {
        "id": "nGOOFXUGnBVA"
      },
      "outputs": [],
      "source": [
        "# Selecionar os quatro primeiros itens do DataFrame\n",
        "test_data = df[['hours_of_studie', 'hours_of_practice', 'spell']].head(4)\n",
        "\n",
        "# Normalizar os dados de teste\n",
        "X_test = scaler.transform(test_data[['hours_of_studie', 'hours_of_practice']])\n",
        "\n",
        "# Gerar previsões para os quatro primeiros itens\n",
        "predictions = modelo.predict(X_test)\n",
        "\n",
        "# Comparar previsões com as notas reais\n",
        "for i, prediction in enumerate(predictions):\n",
        "    print(f'Previsão: {prediction[0]}, Nota Real: {test_data.iloc[i][\"spell\"]}')\n"
      ]
    },
    {
      "cell_type": "markdown",
      "metadata": {
        "id": "rWKSCjOxpAh3"
      },
      "source": [
        "# Confirmando com novos valores"
      ]
    },
    {
      "cell_type": "code",
      "execution_count": null,
      "metadata": {
        "id": "z60c6n4upDy_"
      },
      "outputs": [],
      "source": [
        "new_df = generate(4)\n",
        "\n",
        "X_test = scaler.transform(test_data[['hours_of_studie', 'hours_of_practice']]) # Normalizar os novos dados\n",
        "\n",
        "\n",
        "# Gerar previsões\n",
        "predictions = modelo.predict(X_test)\n",
        "\n",
        "# Exibir as previsões\n",
        "for i, prediction in enumerate(predictions):\n",
        "    print(f'Previsão: {prediction[0]}, Nota Real: {test_data.iloc[i][\"spell\"]}')"
      ]
    },
    {
      "cell_type": "markdown",
      "metadata": {
        "id": "dJH1tZI4qwYg"
      },
      "source": [
        "### Avaliando o Modelo"
      ]
    },
    {
      "cell_type": "code",
      "execution_count": null,
      "metadata": {
        "id": "bBLCpW0AjpGF"
      },
      "outputs": [],
      "source": [
        "X_all = scaler.transform(df[['hours_of_studie', 'hours_of_practice']])\n",
        "predictions_all = modelo.predict(X_all)\n",
        "\n",
        "y_true = df['spell']  # ou 'alchemy' como variável alvo\n",
        "y_pred = predictions_all.flatten()\n",
        "\n",
        "# Calcular o erro médio absoluto (MAE)\n",
        "mae = mean_absolute_error(y_true, y_pred)\n",
        "\n",
        "# Calcular o erro quadrático médio (MSE)\n",
        "mse = mean_squared_error(y_true, y_pred)\n",
        "\n",
        "# Calcular o coeficiente de determinação (R²)\n",
        "r2 = r2_score(y_true, y_pred)\n",
        "\n",
        "print(f'Erro Médio Absoluto (MAE): {mae}') # O MAE é a média das diferenças absolutas entre as previsões do modelo e os valores reais. Em outras palavras, ele mede o quão perto as previsões estão dos valores reais, sem considerar a direção. Um MAE mais baixo indica que o modelo está fazendo previsões mais precisas.\n",
        "print(f'Erro Quadrático Médio (MSE): {mse}')\n",
        "print(f'Coeficiente de Determinação (R²): {r2}')"
      ]
    },
    {
      "cell_type": "markdown",
      "metadata": {
        "id": "eMxzqJs2tTuJ"
      },
      "source": [
        "### Inferencia"
      ]
    },
    {
      "cell_type": "markdown",
      "metadata": {
        "id": "9UlGzcjYtWqK"
      },
      "source": [
        "um MAE de aproximadamente 4.13 significa que, em média, as previsões do seu modelo estão a cerca de 4.13 unidades de distância dos valores reais. Um MSE de aproximadamente 24.51 indica que, em média, o quadrado da diferença entre as previsões e os valores reais é de aproximadamente 24.51. O coeficiente de determinação negativo indica que o modelo não se ajustou bem aos dados, sugerindo que há outros fatores não considerados pelo modelo que afetam as notas dos alunos."
      ]
    },
    {
      "cell_type": "code",
      "execution_count": null,
      "metadata": {
        "id": "d8EsxSMjtXV7"
      },
      "outputs": [],
      "source": []
    }
  ],
  "metadata": {
    "colab": {
      "provenance": []
    },
    "kernelspec": {
      "display_name": "Python 3",
      "name": "python3"
    },
    "language_info": {
      "name": "python",
      "version": "3.12.3"
    }
  },
  "nbformat": 4,
  "nbformat_minor": 0
}
